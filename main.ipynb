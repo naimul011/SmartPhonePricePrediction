{
 "cells": [
  {
   "cell_type": "code",
   "execution_count": 22,
   "metadata": {
    "collapsed": true
   },
   "outputs": [],
   "source": [
    "import numpy as np # linear algebra\n",
    "import pandas as pd # data processing, CSV file I/O (e.g. pd.read_csv)\n",
    "dataset = pd.read_csv('dataset.csv')\n",
    "dataset.shape\n",
    "%matplotlib inline"
   ]
  },
  {
   "cell_type": "code",
   "execution_count": 23,
   "metadata": {},
   "outputs": [
    {
     "data": {
      "text/html": [
       "<div>\n",
       "<style>\n",
       "    .dataframe thead tr:only-child th {\n",
       "        text-align: right;\n",
       "    }\n",
       "\n",
       "    .dataframe thead th {\n",
       "        text-align: left;\n",
       "    }\n",
       "\n",
       "    .dataframe tbody tr th {\n",
       "        vertical-align: top;\n",
       "    }\n",
       "</style>\n",
       "<table border=\"1\" class=\"dataframe\">\n",
       "  <thead>\n",
       "    <tr style=\"text-align: right;\">\n",
       "      <th></th>\n",
       "      <th>Single Core Score</th>\n",
       "      <th>Multi Core Score</th>\n",
       "      <th>DxO Mark Rating</th>\n",
       "      <th>Release Date</th>\n",
       "    </tr>\n",
       "  </thead>\n",
       "  <tbody>\n",
       "    <tr>\n",
       "      <th>0</th>\n",
       "      <td>1912</td>\n",
       "      <td>6397</td>\n",
       "      <td>98</td>\n",
       "      <td>19-10-17</td>\n",
       "    </tr>\n",
       "    <tr>\n",
       "      <th>1</th>\n",
       "      <td>1918</td>\n",
       "      <td>6316</td>\n",
       "      <td>98</td>\n",
       "      <td>19-10-17</td>\n",
       "    </tr>\n",
       "    <tr>\n",
       "      <th>2</th>\n",
       "      <td>4204</td>\n",
       "      <td>10111</td>\n",
       "      <td>97</td>\n",
       "      <td>03-09-17</td>\n",
       "    </tr>\n",
       "    <tr>\n",
       "      <th>3</th>\n",
       "      <td>1960</td>\n",
       "      <td>6472</td>\n",
       "      <td>94</td>\n",
       "      <td>23-08-17</td>\n",
       "    </tr>\n",
       "    <tr>\n",
       "      <th>4</th>\n",
       "      <td>4216</td>\n",
       "      <td>10108</td>\n",
       "      <td>92</td>\n",
       "      <td>22-09-17</td>\n",
       "    </tr>\n",
       "  </tbody>\n",
       "</table>\n",
       "</div>"
      ],
      "text/plain": [
       "   Single Core Score  Multi Core Score  DxO Mark Rating Release Date\n",
       "0               1912              6397               98     19-10-17\n",
       "1               1918              6316               98     19-10-17\n",
       "2               4204             10111               97     03-09-17\n",
       "3               1960              6472               94     23-08-17\n",
       "4               4216             10108               92     22-09-17"
      ]
     },
     "execution_count": 23,
     "metadata": {},
     "output_type": "execute_result"
    }
   ],
   "source": [
    "prices = dataset['Price']\n",
    "features = dataset.drop('Price', axis = 1)\n",
    "features.head()"
   ]
  },
  {
   "cell_type": "code",
   "execution_count": 24,
   "metadata": {
    "collapsed": true
   },
   "outputs": [],
   "source": [
    " \n",
    "features['Release Date'] = pd.to_datetime(features['Release Date'], format='%d-%m-%y')\n",
    "features['OperationalDays']=\"\"\n",
    "\n",
    "dateLastTrain = pd.DataFrame({'Date':np.repeat(['01-05-18'],[len(features)]) })\n",
    "dateLastTrain['Date'] = pd.to_datetime(dateLastTrain['Date'], format='%d-%m-%y')  \n",
    "\n",
    "features['OperationalDays'] = dateLastTrain['Date'] - features['Release Date']\n",
    "\n",
    "features['OperationalDays'] = features['OperationalDays'].astype('timedelta64[D]').astype(int)\n",
    "\n",
    "features = features.drop('Release Date', axis=1)\n",
    "\n"
   ]
  },
  {
   "cell_type": "code",
   "execution_count": 25,
   "metadata": {},
   "outputs": [
    {
     "name": "stdout",
     "output_type": "stream",
     "text": [
      "Statistics for Smartphone prediction dataset:\n",
      "\n",
      "Minimum price: bdt 4,500.00\n",
      "Maximum price: bdt 176,000.00\n",
      "Mean price: bdt 44,278.63\n",
      "Median price bdt 41,000.00\n",
      "Standard deviation of prices: bdt 25,115.15\n"
     ]
    }
   ],
   "source": [
    "# TODO: Minimum price of the data\n",
    "minimum_price = np.min(prices)\n",
    "\n",
    "# TODO: Maximum price of the data\n",
    "maximum_price = np.max(prices)\n",
    "\n",
    "# TODO: Mean price of the data\n",
    "mean_price = np.mean(prices)\n",
    "\n",
    "# TODO: Median price of the data\n",
    "median_price = np.median(prices)\n",
    "\n",
    "# TODO: Standard deviation of prices of the data\n",
    "std_price = np.std(prices)\n",
    "\n",
    "# Show the calculated statistics\n",
    "print(\"Statistics for Smartphone prediction dataset:\\n\")\n",
    "print(\"Minimum price: bdt {:,.2f}\".format(minimum_price))\n",
    "print(\"Maximum price: bdt {:,.2f}\".format(maximum_price))\n",
    "print(\"Mean price: bdt {:,.2f}\".format(mean_price))\n",
    "print(\"Median price bdt {:,.2f}\".format(median_price))\n",
    "print(\"Standard deviation of prices: bdt {:,.2f}\".format(std_price))"
   ]
  },
  {
   "cell_type": "code",
   "execution_count": 26,
   "metadata": {},
   "outputs": [
    {
     "data": {
      "image/png": "[encoded data removed]",
      "text/plain": [
       "<matplotlib.figure.Figure at 0x288958a1780>"
      ]
     },
     "metadata": {},
     "output_type": "display_data"
    }
   ],
   "source": [
    "# Using pyplot\n",
    "import matplotlib.pyplot as plt\n",
    "plt.figure(figsize=(20, 5))\n",
    "\n",
    "# i: index\n",
    "for i, col in enumerate(features.columns):\n",
    "    # 3 plots here hence 1, 4\n",
    "    plt.subplot(1,4, i+1)\n",
    "    x = features[col]\n",
    "    y = prices\n",
    "    plt.plot(x, y, 'o')\n",
    "    # Create regression line\n",
    "    plt.plot(np.unique(x), np.poly1d(np.polyfit(x, y, 1))(np.unique(x)))\n",
    "    plt.title(col)\n",
    "    plt.xlabel(col)\n",
    "    plt.ylabel('Price')"
   ]
  },
  {
   "cell_type": "code",
   "execution_count": 27,
   "metadata": {
    "collapsed": true
   },
   "outputs": [],
   "source": [
    "# TODO: Import 'r2_score'\n",
    "\n",
    "def performance_metric(y_true, y_predict):\n",
    "    \"\"\" Calculates and returns the performance score between \n",
    "        true and predicted values based on the metric chosen. \"\"\"\n",
    "    \n",
    "    # TODO: Calculate the performance score between 'y_true' and 'y_predict'\n",
    "    from sklearn.metrics import r2_score\n",
    "    score = r2_score(y_true, y_predict)\n",
    "    \n",
    "    # Return the score\n",
    "    return score\n"
   ]
  },
  {
   "cell_type": "code",
   "execution_count": 53,
   "metadata": {},
   "outputs": [],
   "source": [
    "from sklearn import ensemble\n",
    "from sklearn.tree import DecisionTreeRegressor\n",
    "from sklearn.linear_model import LinearRegression\n",
    "from sklearn.linear_model import LogisticRegression\n",
    "from sklearn.linear_model import Lasso\n",
    "\n",
    "randomForest = ensemble.RandomForestRegressor(n_estimators=150)\n",
    "bagging = ensemble.BaggingClassifier()\n",
    "decisionTree = DecisionTreeRegressor(max_depth=5)\n",
    "linearReg = LinearRegression()\n",
    "logisticReg = LogisticRegression()\n",
    "lassoReg = Lasso()\n",
    "\n",
    "randomForest_score = 0\n",
    "decisionTree_score = 0\n",
    "linear_score = 0\n",
    "ridge_score = 0\n",
    "logistic_score = 0\n",
    "lasso_score = 0\n",
    "bagging_score = 0\n",
    "\n",
    "#randomForest.fit(xTrain, yTrain)\n",
    "#pred = cls.predict(xTest)\n",
    "   "
   ]
  },
  {
   "cell_type": "code",
   "execution_count": 60,
   "metadata": {},
   "outputs": [],
   "source": [
    "from sklearn.model_selection import KFold\n",
    "kf = KFold(n_splits=5)\n",
    "kf.get_n_splits(features)\n",
    "\n",
    "for train_index, test_index in kf.split(features):\n",
    "    X_train = np.array(features)[train_index]\n",
    "    X_test = np.array(features)[test_index]\n",
    "    \n",
    "    y_train = np.array(prices)[train_index]\n",
    "    y_test = np.array(prices)[test_index]\n",
    "    \n",
    "    randomForest.fit(X_train,y_train)\n",
    "    decisionTree.fit(X_train,y_train)\n",
    "    linearReg.fit(X_train,y_train)\n",
    "    logisticReg.fit(X_train,y_train)\n",
    "    lassoReg.fit(X_train,y_train)\n",
    "    bagging.fit(X_train,y_train)\n",
    "    \n",
    "    randomForest_score += performance_metric(y_test,randomForest.predict(X_test))\n",
    "    decisionTree_score += performance_metric(y_test,decisionTree.predict(X_test))\n",
    "    linear_score += performance_metric(y_test,linearReg.predict(X_test))\n",
    "    logistic_score += performance_metric(y_test,logisticReg.predict(X_test))\n",
    "    lasso_score += performance_metric(y_test,lassoReg.predict(X_test))\n",
    "    bagging_score += performance_metric(y_test,bagging.predict(X_test))"
   ]
  },
  {
   "cell_type": "code",
   "execution_count": 62,
   "metadata": {},
   "outputs": [
    {
     "name": "stdout",
     "output_type": "stream",
     "text": [
      "randomForest_score: 0.120137223886\n",
      "decisionTree_score: 0.0760238471588\n",
      "linear_score: 0.0285483146832\n",
      "logistic_score: -0.0406583691805\n",
      "lasso_score: 0.0285480149035\n",
      "bagging_score: 0.0176761723531\n"
     ]
    }
   ],
   "source": [
    "randomForest_score  /= 5\n",
    "decisionTree_score /= 5\n",
    "linear_score /= 5\n",
    "logistic_score /= 5\n",
    "lasso_score /= 5\n",
    "bagging_score /= 5\n",
    "\n",
    "print('randomForest_score: '+str(randomForest_score))\n",
    "print('decisionTree_score: '+str(decisionTree_score))\n",
    "print('linear_score: '+str(linear_score))\n",
    "print('logistic_score: '+str(logistic_score))\n",
    "print('lasso_score: '+str(lasso_score))\n",
    "print('bagging_score: '+str(bagging_score))"
   ]
  },
  {
   "cell_type": "code",
   "execution_count": null,
   "metadata": {
    "collapsed": true
   },
   "outputs": [],
   "source": []
  }
 ],
 "metadata": {
  "kernelspec": {
   "display_name": "Python 3",
   "language": "python",
   "name": "python3"
  },
  "language_info": {
   "codemirror_mode": {
    "name": "ipython",
    "version": 3
   },
   "file_extension": ".py",
   "mimetype": "text/x-python",
   "name": "python",
   "nbconvert_exporter": "python",
   "pygments_lexer": "ipython3",
   "version": "3.6.3"
  }
 },
 "nbformat": 4,
 "nbformat_minor": 2
}
